{
  "nbformat": 4,
  "nbformat_minor": 0,
  "metadata": {
    "colab": {
      "name": "ml-workspace-template.ipynb",
      "provenance": [],
      "collapsed_sections": [],
      "toc_visible": true,
      "authorship_tag": "ABX9TyN2bFjt9GnxsE6a0zk7WDwr",
      "include_colab_link": true
    },
    "kernelspec": {
      "name": "python3",
      "display_name": "Python 3"
    }
  },
  "cells": [
    {
      "cell_type": "markdown",
      "metadata": {
        "id": "view-in-github",
        "colab_type": "text"
      },
      "source": [
        "<a href=\"https://colab.research.google.com/github/pravinchikhale/machine-learning-practice/blob/master/ml_workspace_template.ipynb\" target=\"_parent\"><img src=\"https://colab.research.google.com/assets/colab-badge.svg\" alt=\"Open In Colab\"/></a>"
      ]
    },
    {
      "cell_type": "markdown",
      "metadata": {
        "id": "b3155KAjkAjd",
        "colab_type": "text"
      },
      "source": [
        "# Checklist for Machine Learning projects. \n",
        "\n",
        "## There are eight main steps:\n",
        "\n",
        "\n",
        "1. Frame the problem and look at the big picture.\n",
        "2. Get the data.\n",
        "3. Explore the data to gain insights.\n",
        "4. Prepare the data to better expose the underlying data patterns to ML algorithms.\n",
        "5. Explore many different models and shortlist the best ones.\n",
        "6. Fine-tune your models and combine them into a great solution.\n",
        "7. Present your solution.\n",
        "8. Launch, monitor, and maintain your system.\n"
      ]
    },
    {
      "cell_type": "markdown",
      "metadata": {
        "id": "vfL1sIkJkH3W",
        "colab_type": "text"
      },
      "source": [
        "# Frame the Problem and Look at the Big Picture\n",
        "\n",
        "\n",
        "1. Define the objective in business terms.\n",
        "2. How will your solution be used?\n",
        "3. What are the current solutions/workarounds (if any)?\n",
        "4. How should you frame this problem (supervised/unsupervised, online/offline, etc.)?\n",
        "5. How should performance be measured?\n",
        "6. Is the performance measure aligned with the business objective?\n",
        "7. What would be the minimum performance needed to reach the business objective?\n",
        "8. What are comparable problems? Can you reuse experience or tools?\n",
        "9. Is human expertise available?\n",
        "10. How would you solve the problem manually?\n",
        "11. List the assumptions you (or others) have made so far.\n",
        "12. Verify assumptions if possible."
      ]
    },
    {
      "cell_type": "markdown",
      "metadata": {
        "id": "lyfl199OkIEk",
        "colab_type": "text"
      },
      "source": [
        "# Get the Data\n",
        "*Note: automate as much as possible so you can easily get fresh data.*\n",
        "\n",
        "1. List the data you need and how much you need.\n",
        "2. Find and document where you can get that data.\n",
        "3. Check how much space it will take.\n",
        "4. Check legal obligations, and get authorization if necessary.\n",
        "5. Get access authorizations.\n",
        "6. Create a workspace (with enough storage space).\n",
        "7. Get the data.\n",
        "8. Convert the data to a format you can easily manipulate (without changing the data itself).\n",
        "9. Ensure sensitive information is deleted or protected (e.g., anonymized).\n",
        "10. Check the size and type of data (time series, sample, geographical, etc.).\n",
        "11. Sample a test set, put it aside, and never look at it (no data snooping!)."
      ]
    },
    {
      "cell_type": "markdown",
      "metadata": {
        "id": "CCXY9lKPkIIP",
        "colab_type": "text"
      },
      "source": [
        "# Explore the Data\n",
        "*Note: try to get insights from a field expert for these steps.*\n",
        "\n",
        "1. Create a copy of the data for exploration (sampling it down to a manageable size if necessary).\n",
        "2. Create a Jupyter notebook to keep a record of your data exploration.\n",
        "3. Study each attribute and its characteristics:\n",
        "  *   Name\n",
        "  *   Type (categorical, int/float, bounded/unbounded, text, structured, etc.)\n",
        "  *   % of missing values\n",
        "  *   Noisiness and type of noise (stochastic, outliers, rounding errors, etc.)\n",
        "  *   Usefulness for the task\n",
        "  *   Type of distribution (Gaussian, uniform, logarithmic, etc.)\n",
        "4. For supervised learning tasks, identify the target attribute(s).\n",
        "5. Visualize the data.\n",
        "6. Study the correlations between attributes.\n",
        "7. Study how you would solve the problem manually.\n",
        "8. Identify the promising transformations you may want to apply.\n",
        "9. Identify extra data that would be useful (go back to “Get the Data”).\n",
        "10. Document what you have learned."
      ]
    },
    {
      "cell_type": "markdown",
      "metadata": {
        "id": "NXf3kdYTkIL7",
        "colab_type": "text"
      },
      "source": [
        "# Prepare the Data\n",
        "**Notes:**\n",
        "*   Work on copies of the data (keep the original dataset intact).\n",
        "*   Write functions for all data transformations you apply, for five reasons:\n",
        "  *   *So you can easily prepare the data the next time you get a fresh dataset*\n",
        "  *   *So you can apply these transformations in future projects*\n",
        "  *   *To clean and prepare the test set*\n",
        "  *   *To clean and prepare new data instances once your solution is live*\n",
        "  *   *To make it easy to treat your preparation choices as hyperparameters*\n",
        "\n",
        "---\n",
        "\n",
        "1. Data cleaning:\n",
        "  *   Fix or remove outliers (optional).\n",
        "  *   Fill in missing values (e.g., with zero, mean, median…) or drop their rows (or columns).\n",
        "2. Feature selection (optional):\n",
        "  *   Drop the attributes that provide no useful information for the task.\n",
        "3. Feature engineering, where appropriate:\n",
        "  *   Discretize continuous features.\n",
        "  *   Decompose features (e.g., categorical, date/time, etc.).\n",
        "  *   Add promising transformations of features (e.g., log(x), sqrt(x), x2, etc.).\n",
        "  *   Aggregate features into promising new features.\n",
        "4. Feature scaling:\n",
        "  *   Standardize or normalize features."
      ]
    },
    {
      "cell_type": "markdown",
      "metadata": {
        "id": "ctOlQClNkIPk",
        "colab_type": "text"
      },
      "source": [
        "# Shortlist Promising Models\n",
        "Notes:\n",
        "*   If the data is huge, you may want to sample smaller training sets so you can train many different models in a reasonable time (be aware that this penalizes complex models such as large neural nets or Random Forests).\n",
        "*   Once again, try to automate these steps as much as possible.\n",
        "---\n",
        "\n",
        "1. Train many quick-and-dirty models from different categories (e.g., linear, naive Bayes, SVM, Random Forest, neural net, etc.) using standard parameters.\n",
        "2. Measure and compare their performance.\n",
        "  *   For each model, use N-fold cross-validation and compute the mean and standard deviation of the performance measure on the N folds.\n",
        "3. Analyze the most significant variables for each algorithm.\n",
        "4. Analyze the types of errors the models make.\n",
        "  *    What data would a human have used to avoid these errors?\n",
        "5. Perform a quick round of feature selection and engineering.\n",
        "6. Perform one or two more quick iterations of the five previous steps.\n",
        "7. Shortlist the top three to five most promising models, preferring models that make different types of errors."
      ]
    },
    {
      "cell_type": "markdown",
      "metadata": {
        "id": "KXpsGDCkkITO",
        "colab_type": "text"
      },
      "source": [
        "# Fine-Tune the System\n",
        "Notes:\n",
        "\n",
        "* You will want to use as much data as possible for this step, especially as you move toward the end of fine-tuning.\n",
        "* As always, automate what you can.\n",
        "\n",
        "---\n",
        "\n",
        "1. Fine-tune the hyperparameters using cross-validation:\n",
        "  * Treat your data transformation choices as hyperparameters, especially when you are not sure about them (e.g., if you’re not sure whether to replace missing values with zeros or with the median value, or to just drop the rows).\n",
        "  * Unless there are very few hyperparameter values to explore, prefer random search over grid search. If training is very long, you may prefer a Bayesian optimization approach (e.g., using Gaussian process priors, as described by Jasper Snoek et al.).1\n",
        "2. Try Ensemble methods. Combining your best models will often produce better performance than running them individually.\n",
        "3. Once you are confident about your final model, measure its performance on the test set to estimate the generalization error.\n",
        "\n",
        "# **WARNING**\n",
        "Don’t tweak your model after measuring the generalization error: you would just start overfitting the test set."
      ]
    },
    {
      "cell_type": "markdown",
      "metadata": {
        "id": "divml5Z3kIW_",
        "colab_type": "text"
      },
      "source": [
        "# Present Your Solution\n",
        "1. Document what you have done.\n",
        "2. Create a nice presentation.\n",
        "  * Make sure you highlight the big picture first.\n",
        "3. Explain why your solution achieves the business objective.\n",
        "4. Don’t forget to present interesting points you noticed along the way.\n",
        "  * Describe what worked and what did not.\n",
        "  * List your assumptions and your system’s limitations.\n",
        "5. Ensure your key findings are communicated through beautiful visualizations or easy-to-remember statements (e.g., “the median income is the number-one predictor of housing prices”)."
      ]
    },
    {
      "cell_type": "markdown",
      "metadata": {
        "id": "cYL4VlutkIal",
        "colab_type": "text"
      },
      "source": [
        "# Launch!\n",
        "1. Get your solution ready for production (plug into production data inputs, write unit tests, etc.).\n",
        "2. Write monitoring code to check your system’s live performance at regular intervals and trigger alerts when it drops.\n",
        "  * Beware of slow degradation: models tend to “rot” as data evolves.\n",
        "  * Measuring performance may require a human pipeline (e.g., via a crowdsourcing service).\n",
        "  * Also monitor your inputs’ quality (e.g., a malfunctioning sensor sending random values, or another team’s output becoming stale). This is particularly important for online learning systems.\n",
        "3. Retrain your models on a regular basis on fresh data (automate as much as possible)."
      ]
    }
  ]
}